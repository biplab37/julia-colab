{
 "cells": [
  {
   "cell_type": "code",
   "execution_count": null,
   "id": "9134610a",
   "metadata": {},
   "outputs": [],
   "source": [
    "%%shell\n",
    "\n",
    "JULIA_VERSION = \"1.8.4\"\n",
    "\n",
    "if [ -z `which julia` ]; then\n",
    "    echo \"Installing Julia...\"\n",
    "    \n",
    "    JULIA_VER=`cut -d '.' -f -2 <<< \"$JULIA_VERSION\"`\n",
    "    BASE_URL=\"https://julialang-s3.julialang.org/bin/linux/x64\"\n",
    "    URL=\"JULIA_VER/julia-$JULIA_VERSION-linux-x86_64.tar.gz\"\n",
    "    \n",
    "    curl -L $URL | tar -xzf - -C /usr/local --strip-components 1\n",
    "fi\n",
    "\n",
    "echo \"Downloading Compiled Packages...\"\n",
    "curl -L https://github.com/biplab37/julia-colab/raw/main/compiled-packages/$JULIA_VERSION.tar.xz.{00,01,02,03} | tar -xJf - --strip-components 1 -C /root/\n",
    "\n",
    "echo \"Installing Julia Kernel...\"\n",
    "julia -e \"using Pkg; Pkg.build(\"IJulia\")\"\n",
    "\n",
    "echo \"Done. Please reload the website (ctrl+R)\""
   ]
  },
  {
   "cell_type": "markdown",
   "id": "7acf2c87",
   "metadata": {},
   "source": [
    "Run the next shell after reloading to chech the julia installation"
   ]
  },
  {
   "cell_type": "code",
   "execution_count": 1,
   "id": "7256c875",
   "metadata": {
    "ExecuteTime": {
     "end_time": "2022-12-26T12:48:21.346000+05:30",
     "start_time": "2022-12-26T07:18:17.844Z"
    }
   },
   "outputs": [
    {
     "name": "stdout",
     "output_type": "stream",
     "text": [
      "Julia Version 1.8.4\n",
      "Commit 00177ebc4fc (2022-12-23 21:32 UTC)\n",
      "Platform Info:\n",
      "  OS: Linux (x86_64-linux-gnu)\n",
      "  CPU: 4 × Intel(R) Core(TM) i3-4005U CPU @ 1.70GHz\n",
      "  WORD_SIZE: 64\n",
      "  LIBM: libopenlibm\n",
      "  LLVM: libLLVM-13.0.1 (ORCJIT, haswell)\n",
      "  Threads: 1 on 4 virtual cores\n"
     ]
    }
   ],
   "source": [
    "versioninfo()"
   ]
  }
 ],
 "metadata": {
  "kernelspec": {
   "display_name": "Julia 1.8.4",
   "language": "julia",
   "name": "julia-1.8"
  },
  "language_info": {
   "file_extension": ".jl",
   "mimetype": "application/julia",
   "name": "julia",
   "version": "1.8.4"
  },
  "toc": {
   "base_numbering": 1,
   "nav_menu": {},
   "number_sections": false,
   "sideBar": false,
   "skip_h1_title": false,
   "title_cell": "Table of Contents",
   "title_sidebar": "Contents",
   "toc_cell": false,
   "toc_position": {},
   "toc_section_display": true,
   "toc_window_display": false
  }
 },
 "nbformat": 4,
 "nbformat_minor": 5
}
